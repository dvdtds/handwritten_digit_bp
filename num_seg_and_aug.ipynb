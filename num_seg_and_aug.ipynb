{
 "cells": [
  {
   "cell_type": "markdown",
   "id": "6572ff1f-fa7d-4e6e-b3b0-a226a3959df0",
   "metadata": {},
   "source": [
    "<font size=5>将手写数字总图分割为各个数字小图"
   ]
  },
  {
   "cell_type": "code",
   "execution_count": 2,
   "id": "476c401c-232d-44e0-88ce-fe92e62f5024",
   "metadata": {},
   "outputs": [],
   "source": [
    "import cv2\n",
    "import numpy as np\n",
    "import os\n",
    "import shutil"
   ]
  },
  {
   "cell_type": "code",
   "execution_count": 132,
   "id": "ad665c37-aead-49a6-93ae-a81ab3a1662c",
   "metadata": {},
   "outputs": [
    {
     "name": "stdout",
     "output_type": "stream",
     "text": [
      "done!!!\n"
     ]
    }
   ],
   "source": [
    "pic_path = 'C:/Users/liu_w/Desktop/num_general.jpg' # 分割的图片的位置\n",
    "pic_target = 'C:/Users/liu_w/Desktop/num_seg/' # 分割后的图片保存的文件夹\n",
    "if not os.path.exists(pic_target):  #判断是否存在文件夹如果不存在则创建为文件夹\n",
    "    os.makedirs(pic_target)\n",
    "#要分割后的尺寸\n",
    "#原图为2599×3637，14行×10列\n",
    "cut_width = 2599//10\n",
    "cut_length = 3637//14\n",
    "# 读取要分割的图片，以及其尺寸等数据\n",
    "picture = cv2.imread(pic_path)\n",
    "(width, length, depth) = picture.shape\n",
    "# 预处理生成0矩阵\n",
    "pic = np.zeros((cut_width, cut_length, depth))\n",
    "# 计算可以划分的横纵的个数\n",
    "num_width = int(width / cut_width)\n",
    "num_length = int(length / cut_length)\n",
    "# for循环迭代生成\n",
    "for i in range(0, num_width):\n",
    "    for j in range(0, num_length):\n",
    "        pic = picture[i*cut_width : (i+1)*cut_width, j*cut_length : (j+1)*cut_length, :]      \n",
    "        result_path = pic_target + '{}+{}.png'.format(j, i) #将列号置前，以便后续整理图片至对应文件夹\n",
    "        cv2.imwrite(result_path, pic)\n",
    " \n",
    "print(\"done!!!\")"
   ]
  },
  {
   "cell_type": "markdown",
   "id": "2cfc0bb8-80e4-422f-bf14-1b1c3c3a66dc",
   "metadata": {},
   "source": [
    "<font size=5>擦除分割好的小图边缘框线"
   ]
  },
  {
   "cell_type": "code",
   "execution_count": 133,
   "id": "162939e2-e592-4604-baca-b2c9fc5f9de9",
   "metadata": {},
   "outputs": [
    {
     "name": "stdout",
     "output_type": "stream",
     "text": [
      "done!!!\n"
     ]
    }
   ],
   "source": [
    "rootdir = 'C:/Users/liu_w/Desktop/num_seg/'\n",
    "list = os.listdir (rootdir)\n",
    "for i in range(0, len(list)) :\n",
    "    picture = cv2. imread(\"C:/Users/liu_w/Desktop/num_seg/\"+list[i])\n",
    "    (w, h, g)=picture.shape\n",
    "    #print (w,h)\n",
    "    #每边各裁剪20个像素\n",
    "    dst = picture[20:w-20, 20:h-20]\n",
    "    cv2. imwrite (\"C:/Users/liu_w/Desktop/num_seg/\"+list[i],dst) # 写入图片\n",
    "\n",
    "print(\"done!!!\")"
   ]
  },
  {
   "cell_type": "markdown",
   "id": "65d274da-6d30-484d-8811-222df9336f60",
   "metadata": {},
   "source": [
    "<font size=5>数据增强"
   ]
  },
  {
   "cell_type": "code",
   "execution_count": 14,
   "id": "317ecbd5-cd23-4e2b-95a5-c57180cc650a",
   "metadata": {},
   "outputs": [
    {
     "name": "stdout",
     "output_type": "stream",
     "text": [
      "140\n"
     ]
    }
   ],
   "source": [
    "from tensorflow.keras.preprocessing.image import ImageDataGenerator, array_to_img, img_to_array, load_img\n",
    "\n",
    "datagen = ImageDataGenerator(\n",
    "rotation_range=30,\n",
    "width_shift_range=0.2,\n",
    "height_shift_range=0.2,\n",
    "shear_range=0.2,\n",
    "zoom_range=0.1,\n",
    "horizontal_flip=False,\n",
    "brightness_range=[0.1, 2],\n",
    "fill_mode='nearest')\n",
    " \n",
    "trains = os.listdir(\"C:/Users/liu_w/Desktop/num_seg/\")\n",
    "print(len(trains))\n",
    "\n",
    "for index,file in enumerate(trains):\n",
    "    img = load_img(\"C:/Users/liu_w/Desktop/num_seg/\" + file)\n",
    "    x = img_to_array(img)\n",
    "    x = x.reshape((1,) + x.shape)\n",
    "    \n",
    "    i = 0\n",
    "    for batch in datagen.flow(x, batch_size=10,\n",
    "        save_to_dir='C:/Users/liu_w/Desktop/num_augemented', save_prefix=os.path.basename(file), save_format='png'):\n",
    "        i += 1\n",
    " \n",
    "        if i > 40:\n",
    "             break\n"
   ]
  },
  {
   "cell_type": "markdown",
   "id": "e59524a3-e9f0-434c-b0bd-d08487187bff",
   "metadata": {},
   "source": [
    "随机旋转"
   ]
  },
  {
   "cell_type": "code",
   "execution_count": 142,
   "id": "52e7a766-17aa-457a-ade7-18f17e08bb72",
   "metadata": {},
   "outputs": [
    {
     "name": "stdout",
     "output_type": "stream",
     "text": [
      "done!!!\n"
     ]
    }
   ],
   "source": [
    "from math import *\n",
    "import random\n",
    "\n",
    "rootdir = 'C:/Users/liu_w/Desktop/num_seg/'\n",
    "list = os.listdir (rootdir)\n",
    "\n",
    "for i in range(0, len(list)) :\n",
    "    img = cv2. imread('C:/Users/liu_w/Desktop/num_seg/'+list[i])\n",
    "    w, h, _ = img.shape\n",
    "    \n",
    "    #每张图片在（-30°~30°）范围内随机旋转40次\n",
    "    for j in range (40):\n",
    "        angle = random.randint(-30, 30) \n",
    "        M = cv2.getRotationMatrix2D((w / 2, h / 2), angle, 1)\n",
    "        \n",
    "        #去除黑边\n",
    "        width_new = int(h * fabs(sin(radians(angle))) + w * fabs(cos(radians(angle))))\n",
    "        height_new = int(w * fabs(sin(radians(angle))) + h * fabs(cos(radians(angle))))\n",
    "        \n",
    "        M[0, 2] += (height_new - h) / 2\n",
    "        M[1, 2] += (width_new - w) / 2\n",
    "        \n",
    "        new_img = cv2.warpAffine(img, M, (w, h), borderValue=(255, 255, 255))\n",
    "        result_path = 'C:/Users/liu_w/Desktop/num_seg_rotate/' +list[i] + '_r{}.png'.format(angle)\n",
    "        cv2.imwrite(result_path,new_img)\n",
    "        \n",
    "    \n",
    "print(\"done!!!\")"
   ]
  },
  {
   "cell_type": "markdown",
   "id": "0c1909ae-8f3d-4850-9c25-80d4d5727afc",
   "metadata": {},
   "source": [
    "<font size=5>转换为黑底白字，并将分辨率改为28×28"
   ]
  },
  {
   "cell_type": "code",
   "execution_count": 15,
   "id": "321b7e9f-3a53-4868-9aa5-bfc667e0f791",
   "metadata": {},
   "outputs": [
    {
     "name": "stdout",
     "output_type": "stream",
     "text": [
      "done!!!\n"
     ]
    }
   ],
   "source": [
    "rootdir = 'C:/Users/liu_w/Desktop/num_seg/'\n",
    "list = os.listdir (rootdir)\n",
    "for i in range(0, len(list)) :\n",
    "    img = cv2. imread(rootdir + list[i])\n",
    "    imgGray = cv2.cvtColor(img, cv2.COLOR_BGR2GRAY) #转换为灰度\n",
    "    w, h = img.shape[:2]\n",
    "    imgInv = np.empty((w, h), np.uint8)\n",
    "    for j in range(w):\n",
    "        for k in range(h):\n",
    "            imgInv[j][k] = 255 - imgGray[j][k]\n",
    "    #修改为28×28像素\n",
    "    picture = cv2.resize(imgInv, (28, 28))\n",
    "    cv2. imwrite (\"C:/Users/liu_w/Desktop/raw_dataset/\"+list[i], picture) # 写入图片\n",
    "    \n",
    "rootdir = 'C:/Users/liu_w/Desktop/num_augemented/'\n",
    "list = os.listdir (rootdir)\n",
    "for i in range(0, len(list)) :\n",
    "    img = cv2. imread(rootdir + list[i])\n",
    "    imgGray = cv2.cvtColor(img, cv2.COLOR_BGR2GRAY) #转换为灰度\n",
    "    w, h = img.shape[:2]\n",
    "    imgInv = np.empty((w, h), np.uint8)\n",
    "    for j in range(w):\n",
    "        for k in range(h):\n",
    "            imgInv[j][k] = 255 - imgGray[j][k]\n",
    "    #修改为28×28像素\n",
    "    picture = cv2.resize(imgInv, (28, 28))\n",
    "    cv2. imwrite (\"C:/Users/liu_w/Desktop/raw_dataset/\"+list[i], picture) # 写入图片\n",
    "\n",
    "print(\"done!!!\")"
   ]
  },
  {
   "cell_type": "markdown",
   "id": "79bd1b46-5ce8-451b-ac12-fef99c5102ce",
   "metadata": {},
   "source": [
    "<font size=5>整理图片进对应文件夹"
   ]
  },
  {
   "cell_type": "code",
   "execution_count": 16,
   "id": "b6fca183-5181-48d3-a907-247ddfdd999c",
   "metadata": {},
   "outputs": [
    {
     "name": "stdout",
     "output_type": "stream",
     "text": [
      "图片所在目录：C:/Users/liu_w/Desktop/raw_dataset/\n",
      "当前图片数： 5865\n",
      "创建文件夹0\n",
      "创建文件夹1\n",
      "创建文件夹2\n",
      "创建文件夹3\n",
      "创建文件夹4\n",
      "创建文件夹5\n",
      "创建文件夹6\n",
      "创建文件夹7\n",
      "创建文件夹8\n",
      "创建文件夹9\n"
     ]
    }
   ],
   "source": [
    "path = \"C:/Users/liu_w/Desktop/raw_dataset/\"\n",
    "target_path = \"C:/Users/liu_w/Desktop/MNISTlw/\"\n",
    "print('图片所在目录：'+ path)\n",
    "\n",
    "file_list = os.listdir(path)\n",
    "print('当前图片数：' , len(file_list))\n",
    "\n",
    "#在目标文件夹新建子文件夹\n",
    "for i in range(10):\n",
    "    os.mkdir(target_path + str(i))\n",
    "    print('创建文件夹' + str(i))\n",
    "\n",
    "for file in file_list:\n",
    "    filename = os.path.basename(file)\n",
    "    name = filename.split('+')\n",
    "    #print(name[0])\n",
    "\n",
    "    shutil.copy(path+'//'+filename , target_path+'/'+name[0])\n"
   ]
  },
  {
   "cell_type": "code",
   "execution_count": null,
   "id": "0d507159-bb49-412d-99a4-4639f0455d35",
   "metadata": {},
   "outputs": [],
   "source": []
  }
 ],
 "metadata": {
  "kernelspec": {
   "display_name": "Python [conda env:pDL] *",
   "language": "python",
   "name": "conda-env-pDL-py"
  },
  "language_info": {
   "codemirror_mode": {
    "name": "ipython",
    "version": 3
   },
   "file_extension": ".py",
   "mimetype": "text/x-python",
   "name": "python",
   "nbconvert_exporter": "python",
   "pygments_lexer": "ipython3",
   "version": "3.9.13"
  }
 },
 "nbformat": 4,
 "nbformat_minor": 5
}
